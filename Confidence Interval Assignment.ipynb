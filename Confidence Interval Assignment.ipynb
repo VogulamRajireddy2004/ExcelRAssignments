{
 "cells": [
  {
   "cell_type": "code",
   "execution_count": 5,
   "id": "f649d4bf-0298-4900-b95f-dcc146e57b3a",
   "metadata": {},
   "outputs": [],
   "source": [
    "#Background\n",
    "#In quality control processes, especially when dealing with high-value items, destructive sampling is a necessary but costly method to ensure product quality. The test to determine whether an item meets the quality standards destroys the item, leading to the requirement of small sample sizes due to cost constraints.\n",
    "#Scenario\n",
    "#A manufacturer of print-heads for personal computers is interested in estimating the mean durability of their print-heads in terms of the number of characters printed before failure. To assess this, the manufacturer conducts a study on a small sample of print-heads due to the destructive nature of the testing process.\n",
    "#Data\n",
    "#A total of 15 print-heads were randomly selected and tested until failure. The durability of each print-head (in millions of characters) was recorded as follows:\n",
    "#1.13, 1.55, 1.43, 0.92, 1.25, 1.36, 1.32, 0.85, 1.07, 1.48, 1.20, 1.33, 1.18, 1.22, 1.29\n",
    "#Assignment Tasks\n",
    "#a. Build 99% Confidence Interval Using Sample Standard Deviation\n",
    "#Assuming the sample is representative of the population, construct a 99% confidence interval for the mean number of characters printed before the print-head fails using the sample standard deviation. Explain the steps you take and the rationale behind using the t-distribution for this task.\n",
    "#b. Build 99% Confidence Interval Using Known Population Standard Deviation\n",
    "#If it were known that the population standard deviation is 0.2 million characters, construct a 99% confidence interval for the mean number of characters printed before failure.\n",
    "\n"
   ]
  },
  {
   "cell_type": "code",
   "execution_count": 3,
   "id": "e6ece3c7-c3a6-4130-aa6a-c568cd381970",
   "metadata": {},
   "outputs": [
    {
     "data": {
      "text/plain": [
       "(1.2386666666666666, (1.1056514133957607, 1.3716819199375725))"
      ]
     },
     "execution_count": 3,
     "metadata": {},
     "output_type": "execute_result"
    }
   ],
   "source": [
    "\n",
    "#Step 1: Calculate sample statistics*\n",
    "import numpy as np\n",
    "from scipy import stats\n",
    "\n",
    "data = [1.13, 1.55, 1.43, 0.92, 1.25, 1.36, 1.32, 0.85, 1.07, 1.48, 1.20, 1.33, 1.18, 1.22, 1.29]\n",
    "n = len(data)\n",
    "\n",
    "mean = np.mean(data)\n",
    "std_dev = np.std(data, ddof=1)  # sample standard deviation\n",
    "conf_level = 0.99\n",
    "alpha = 1 - conf_level\n",
    "df = n - 1\n",
    "\n",
    "t_critical = stats.t.ppf(1 - alpha/2, df)\n",
    "margin_of_error = t_critical * (std_dev / np.sqrt(n))\n",
    "\n",
    "ci_lower = mean - margin_of_error\n",
    "ci_upper = mean + margin_of_error\n",
    "\n",
    "(mean, std_dev, (ci_lower, ci_upper))\n",
    "\n",
    "## *b. 99% Confidence Interval Using Known Population Standard Deviation*\n",
    "pop_std_dev = 0.2\n",
    "z_critical = stats.norm.ppf(1 - alpha/2)\n",
    "margin_of_error_known = z_critical * (pop_std_dev / np.sqrt(n))\n",
    "\n",
    "ci_lower_known = mean - margin_of_error_known\n",
    "ci_upper_known = mean + margin_of_error_known\n",
    "\n",
    "(mean, (ci_lower_known, ci_upper_known))\n",
    "\n",
    "\n",
    "\n"
   ]
  },
  {
   "cell_type": "code",
   "execution_count": null,
   "id": "f4db31c0-3435-4b0b-bfd7-154c41354219",
   "metadata": {},
   "outputs": [],
   "source": []
  }
 ],
 "metadata": {
  "kernelspec": {
   "display_name": "Python [conda env:base] *",
   "language": "python",
   "name": "conda-base-py"
  },
  "language_info": {
   "codemirror_mode": {
    "name": "ipython",
    "version": 3
   },
   "file_extension": ".py",
   "mimetype": "text/x-python",
   "name": "python",
   "nbconvert_exporter": "python",
   "pygments_lexer": "ipython3",
   "version": "3.12.7"
  }
 },
 "nbformat": 4,
 "nbformat_minor": 5
}
