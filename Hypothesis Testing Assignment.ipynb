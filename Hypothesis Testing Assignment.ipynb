{
 "cells": [
  {
   "cell_type": "code",
   "execution_count": 1,
   "id": "0771cb23-0dd6-43dd-8817-d735391a7cdf",
   "metadata": {},
   "outputs": [
    {
     "name": "stdout",
     "output_type": "stream",
     "text": [
      "=== Hypothesis Testing Summary ===\n",
      "Theoretical mean cost (μ₀): Rs. 4000\n",
      "Sample mean cost (x̄): Rs. 3050\n",
      "Standard deviation of cost (σ): Rs. 125\n",
      "Standard error: 25.00\n",
      "Test statistic (Z): -38.00\n",
      "Critical value (Z₀.₀₅): 1.64\n",
      "Reject null hypothesis? No\n",
      "Conclusion: Do not reject the null hypothesis. There is not enough evidence to support the claim that weekly operating costs are higher.\n"
     ]
    }
   ],
   "source": [
    "# Hypothesis Testing for Bombay Hospitality Ltd.\n",
    "# Objective: Investigate whether weekly operating costs are higher than the model suggests.\n",
    "\n",
    "import scipy.stats as stats\n",
    "import numpy as np\n",
    "\n",
    "# Step 1: Hypotheses\n",
    "# H0: mu = mu_0 (The current cost model is accurate)\n",
    "# H1: mu > mu_0 (The weekly costs are higher than predicted by the model)\n",
    "\n",
    "# Step 2: Define known values\n",
    "sample_mean = 3050         # Observed average weekly cost (Rs.)\n",
    "X_mean = 600               # Mean weekly units produced\n",
    "X_std = 25                 # Standard deviation of weekly units\n",
    "sample_size = 25           # Sample size (n)\n",
    "alpha = 0.05               # Significance level\n",
    "\n",
    "# Cost model: W = 1000 + 5X\n",
    "# Theoretical mean weekly cost:\n",
    "mu_0 = 1000 + 5 * X_mean   # Expected weekly cost\n",
    "sigma = 5 * X_std          # Standard deviation of weekly cost\n",
    "\n",
    "# Calculate standard error\n",
    "standard_error = sigma / np.sqrt(sample_size)\n",
    "\n",
    "# Step 2: Calculate test statistic\n",
    "z = (sample_mean - mu_0) / standard_error\n",
    "\n",
    "# Step 3: Determine critical value (z-critical for one-tailed test)\n",
    "z_critical = stats.norm.ppf(1 - alpha)\n",
    "\n",
    "# Step 4: Make decision\n",
    "reject_null = z > z_critical\n",
    "\n",
    "# Step 5: Conclusion\n",
    "if reject_null:\n",
    "    conclusion = \"Reject the null hypothesis. There is strong evidence that weekly operating costs are higher than the model suggests.\"\n",
    "else:\n",
    "    conclusion = \"Do not reject the null hypothesis. There is not enough evidence to support the claim that weekly operating costs are higher.\"\n",
    "\n",
    "# Output results\n",
    "print(\"=== Hypothesis Testing Summary ===\")\n",
    "print(f\"Theoretical mean cost (μ₀): Rs. {mu_0}\")\n",
    "print(f\"Sample mean cost (x̄): Rs. {sample_mean}\")\n",
    "print(f\"Standard deviation of cost (σ): Rs. {sigma}\")\n",
    "print(f\"Standard error: {standard_error:.2f}\")\n",
    "print(f\"Test statistic (Z): {z:.2f}\")\n",
    "print(f\"Critical value (Z₀.₀₅): {z_critical:.2f}\")\n",
    "print(f\"Reject null hypothesis? {'Yes' if reject_null else 'No'}\")\n",
    "print(f\"Conclusion: {conclusion}\")\n"
   ]
  },
  {
   "cell_type": "code",
   "execution_count": null,
   "id": "d8ed4699-b9b2-491d-b68d-46fb807d5c07",
   "metadata": {},
   "outputs": [],
   "source": []
  }
 ],
 "metadata": {
  "kernelspec": {
   "display_name": "Python [conda env:base] *",
   "language": "python",
   "name": "conda-base-py"
  },
  "language_info": {
   "codemirror_mode": {
    "name": "ipython",
    "version": 3
   },
   "file_extension": ".py",
   "mimetype": "text/x-python",
   "name": "python",
   "nbconvert_exporter": "python",
   "pygments_lexer": "ipython3",
   "version": "3.12.7"
  }
 },
 "nbformat": 4,
 "nbformat_minor": 5
}
