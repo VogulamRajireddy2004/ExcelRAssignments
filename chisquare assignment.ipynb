{
 "cells": [
  {
   "cell_type": "code",
   "execution_count": 13,
   "id": "dd78ce31-3a03-416a-9295-bcfad52fea85",
   "metadata": {},
   "outputs": [],
   "source": [
    "# Chi-Square Test: Association between Device Type and Customer Satisfaction\n",
    "import numpy as np\n",
    "import scipy.stats as stats\n",
    "\n",
    "# Step 1: State the Hypotheses\n",
    "# H0 (Null Hypothesis): There is no association between device type and customer satisfaction.\n",
    "# H1 (Alternative Hypothesis): There is an association between device type and customer satisfaction.\n",
    "\n",
    "# Step 2: Observed Frequencies (Contingency Table)\n",
    "observed = np.array([\n",
    "    [50, 70],   # Very Satisfied\n",
    "    [80, 100],  # Satisfied\n",
    "    [60, 90],   # Neutral\n",
    "    [30, 50],   # Unsatisfied\n",
    "    [20, 50]    # Very Unsatisfied\n",
    "])\n",
    "\n",
    "# Perform the Chi-Square Test\n",
    "test_statistic, p_value, dof, expected = stats.chi2_contingency(observed)"
   ]
  },
  {
   "cell_type": "code",
   "execution_count": 15,
   "id": "a00b668c-b72b-4005-b14d-86e8841a0116",
   "metadata": {},
   "outputs": [
    {
     "name": "stdout",
     "output_type": "stream",
     "text": [
      "0.05\n",
      "9.487729036781154\n"
     ]
    }
   ],
   "source": [
    "# Step 3: Determine the Critical Value\n",
    "alpha = 0.05\n",
    "critical_value = stats.chi2.ppf(1 - alpha, dof)\n",
    "print(alpha)\n",
    "print(critical_value)"
   ]
  },
  {
   "cell_type": "code",
   "execution_count": 24,
   "id": "3a6612a5-b4f4-4add-a9e2-66150a899106",
   "metadata": {},
   "outputs": [],
   "source": [
    "# Step 4: Make a Decision\n",
    "if test_statistic > critical_value:\n",
    "    decision = \"Reject the null hypothesis (H0). There is a significant association between device type and customer satisfaction.\"\n",
    "else:\n",
    "    decision = \"Fail to reject the null hypothesis (H0). There is no significant association between device type and customer satisfaction.\""
   ]
  },
  {
   "cell_type": "code",
   "execution_count": 19,
   "id": "66d5e269-fd43-485e-95c0-7a64c68161c5",
   "metadata": {},
   "outputs": [
    {
     "name": "stdout",
     "output_type": "stream",
     "text": [
      "Chi-Square Test for Independence Report\n",
      "--------------------------------------------------\n",
      "Observed Frequencies:\n",
      "[[ 50  70]\n",
      " [ 80 100]\n",
      " [ 60  90]\n",
      " [ 30  50]\n",
      " [ 20  50]]\n",
      "\n",
      "Expected Frequencies (under H0):\n",
      "[[ 48.  72.]\n",
      " [ 72. 108.]\n",
      " [ 60.  90.]\n",
      " [ 32.  48.]\n",
      " [ 28.  42.]]\n",
      "\n",
      "Test Statistic (Chi-Square Value): 5.6382\n",
      "Degrees of Freedom: 4\n",
      "Critical Value at alpha = 0.05: 9.4877\n",
      "P-Value: 0.2278\n",
      "Conclusion: Fail to reject the null hypothesis (H0). There is no significant association between device type and customer satisfaction.\n"
     ]
    }
   ],
   "source": [
    "# Print the detailed report\n",
    "\n",
    "print(\"Chi-Square Test for Independence Report\")\n",
    "print(\"--------------------------------------------------\")\n",
    "print(f\"Observed Frequencies:\\n{observed}\\n\")\n",
    "print(f\"Expected Frequencies (under H0):\\n{expected.round(2)}\\n\")\n",
    "print(f\"Test Statistic (Chi-Square Value): {test_statistic:.4f}\")\n",
    "print(f\"Degrees of Freedom: {dof}\")\n",
    "print(f\"Critical Value at alpha = 0.05: {critical_value:.4f}\")\n",
    "print(f\"P-Value: {p_value:.4f}\")\n",
    "print(f\"Conclusion: {decision}\")"
   ]
  },
  {
   "cell_type": "code",
   "execution_count": null,
   "id": "b21f7a19-4e3d-4a23-84d8-e9c7cdecce7c",
   "metadata": {},
   "outputs": [],
   "source": []
  },
  {
   "cell_type": "code",
   "execution_count": null,
   "id": "593642ba-5a6e-4e3f-a977-8295e8776702",
   "metadata": {},
   "outputs": [],
   "source": []
  },
  {
   "cell_type": "code",
   "execution_count": null,
   "id": "738b63f1-9e2f-4a29-b4a3-888df71d36fc",
   "metadata": {},
   "outputs": [],
   "source": []
  }
 ],
 "metadata": {
  "kernelspec": {
   "display_name": "Python [conda env:base] *",
   "language": "python",
   "name": "conda-base-py"
  },
  "language_info": {
   "codemirror_mode": {
    "name": "ipython",
    "version": 3
   },
   "file_extension": ".py",
   "mimetype": "text/x-python",
   "name": "python",
   "nbconvert_exporter": "python",
   "pygments_lexer": "ipython3",
   "version": "3.12.7"
  }
 },
 "nbformat": 4,
 "nbformat_minor": 5
}
